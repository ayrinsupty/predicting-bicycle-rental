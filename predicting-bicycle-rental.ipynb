{
 "cells": [
  {
   "cell_type": "markdown",
   "id": "268020c3",
   "metadata": {},
   "source": [
    "### PHASE 1 : GET DATA "
   ]
  },
  {
   "cell_type": "markdown",
   "id": "32ebd6b3",
   "metadata": {},
   "source": [
    "##### Pandas is a Python library used for working with data sets"
   ]
  },
  {
   "cell_type": "code",
   "execution_count": null,
   "id": "aeb6f386",
   "metadata": {},
   "outputs": [],
   "source": [
    "\n",
    "import pandas as pd "
   ]
  },
  {
   "cell_type": "markdown",
   "id": "ae6f70d9",
   "metadata": {},
   "source": [
    "##### Matplotlib is a comprehensive library for creating static, animated, and interactive visualizations in Python. Matplotlib makes easy things easy and hard things possible."
   ]
  },
  {
   "cell_type": "code",
   "execution_count": null,
   "id": "2454a27d",
   "metadata": {},
   "outputs": [],
   "source": [
    "import matplotlib.pyplot as plt"
   ]
  },
  {
   "cell_type": "markdown",
   "id": "eb83645d",
   "metadata": {},
   "source": [
    "##### Numpy is a library for the Python programming language, adding support for large, multi-dimensional arrays and matrices, along with a large collection of high-level mathematical functions to operate on these arrays."
   ]
  },
  {
   "cell_type": "code",
   "execution_count": null,
   "id": "d13a002a",
   "metadata": {},
   "outputs": [],
   "source": [
    "import numpy as np "
   ]
  },
  {
   "cell_type": "markdown",
   "id": "0820173c",
   "metadata": {},
   "source": [
    "##### A line of code in Matplotlib that changes the default size of figures created in your Python script. Specifically, it sets the figure's width to 10 inches and its height to 5 inches. This affects all subsequent figures created using plt.figure() or functions that create subplots, unless explicitly overridden. "
   ]
  },
  {
   "cell_type": "code",
   "execution_count": null,
   "id": "8909a246",
   "metadata": {},
   "outputs": [],
   "source": [
    "# Set the default figure size for plots\n",
    "plt.rcParams['figure.figsize'] = [10, 5]"
   ]
  },
  {
   "cell_type": "markdown",
   "id": "6879bb3a",
   "metadata": {},
   "source": [
    "### Importing Data"
   ]
  },
  {
   "cell_type": "markdown",
   "id": "1881e411",
   "metadata": {},
   "source": [
    "#####  The dataset is in CSV file but I want it to be a data frame. Now within pandas, that's what remember pd says within pandas there's a function called read_csv, which reads a CSV and turns it into a data frame. So this line here is telling me I've got a data frame, I'm calling bike_df. So bike_df is I'm taking this data and I'm turning it into a data frame."
   ]
  },
  {
   "cell_type": "code",
   "execution_count": null,
   "id": "a53ec2c6",
   "metadata": {},
   "outputs": [],
   "source": [
    "bike_df = pd.read_csv('bike_sharing_daily.csv')\n",
    "bike_df"
   ]
  },
  {
   "cell_type": "markdown",
   "id": "71dbe71e",
   "metadata": {},
   "source": [
    "#####  Here We are going to add another feature which is called date. And what it's going to do is use another pandas function, which takes a date time and turns a string into a date time. So this is a string and it's going to turn it into a datetime object, which is a kind of number."
   ]
  },
  {
   "cell_type": "code",
   "execution_count": null,
   "id": "a59b3461",
   "metadata": {},
   "outputs": [],
   "source": [
    "bike_df['date'] = pd.to_datetime(bike_df['dteday'])\n",
    "bike_df"
   ]
  },
  {
   "cell_type": "markdown",
   "id": "768e7a40",
   "metadata": {},
   "source": [
    "### PHASE 2: PLAY WITH DATA"
   ]
  },
  {
   "cell_type": "markdown",
   "id": "7a463ff8",
   "metadata": {},
   "source": [
    "#### It's got three different things in it. It's got the date, it's got the count, and it's got the weather situation. Here, the weather situation was one, two or three. The count is a number with thousands. The date is a date.\n",
    "\n",
    "##### Here, Yellow is bad weather. Purple is best weather and blue is the in-between."
   ]
  },
  {
   "cell_type": "code",
   "execution_count": null,
   "id": "89c5f2ac",
   "metadata": {},
   "outputs": [],
   "source": [
    "# df.plot.scatter(x='dteday', y='cnt')\n",
    "plt.scatter(bike_df['date'], bike_df['cnt'], c = bike_df['weathersit'])"
   ]
  },
  {
   "cell_type": "code",
   "execution_count": null,
   "id": "40692770",
   "metadata": {},
   "outputs": [],
   "source": [
    "# when the weather situation is one, the average count of bikes rented is:\n",
    "bike_df[bike_df['weathersit']==1]['cnt'].mean()"
   ]
  },
  {
   "cell_type": "code",
   "execution_count": null,
   "id": "466727f9",
   "metadata": {},
   "outputs": [],
   "source": [
    "# when the weather situation is two, the average count of bikes rented is:\n",
    "bike_df[bike_df['weathersit']==2]['cnt'].mean()"
   ]
  },
  {
   "cell_type": "code",
   "execution_count": null,
   "id": "af59dec6",
   "metadata": {},
   "outputs": [],
   "source": [
    "# when the weather situation is three, the average count of bikes rented is:\n",
    "bike_df[bike_df['weathersit']==3]['cnt'].mean()"
   ]
  },
  {
   "cell_type": "markdown",
   "id": "625dab97",
   "metadata": {},
   "source": [
    "#### It's got the temperature against the count."
   ]
  },
  {
   "cell_type": "code",
   "execution_count": null,
   "id": "0dab4329",
   "metadata": {},
   "outputs": [],
   "source": [
    "plt.scatter(bike_df['atemp'], bike_df['cnt'])"
   ]
  },
  {
   "cell_type": "markdown",
   "id": "867e37f9",
   "metadata": {},
   "source": [
    "### Temperature and Correlation"
   ]
  },
  {
   "cell_type": "code",
   "execution_count": null,
   "id": "45a538be",
   "metadata": {},
   "outputs": [],
   "source": [
    "# Calculate the correlation between 'cnt' and 'atemp'\n",
    "bike_df[['cnt', 'atemp']].corr()"
   ]
  },
  {
   "cell_type": "code",
   "execution_count": null,
   "id": "1a3ad5aa",
   "metadata": {},
   "outputs": [],
   "source": [
    "# Calculate the correlation between 'cnt' and 'temp'\n",
    "bike_df[['cnt', 'temp']].corr()"
   ]
  },
  {
   "cell_type": "code",
   "execution_count": null,
   "id": "716b0249",
   "metadata": {},
   "outputs": [],
   "source": [
    "# Calculate the correlation among 'cnt', 'atemp', 'temp', 'hum', 'windspeed' and 'weathersit'\n",
    "bike_df[['cnt', 'atemp', 'temp', 'hum', 'windspeed', 'weathersit']].corr()"
   ]
  },
  {
   "cell_type": "markdown",
   "id": "224fbb0a",
   "metadata": {},
   "source": [
    "### PHASE 3 : IMPLEMENT LEARNING\n",
    "LEARNING MODEL - LINEAR REGRESSION "
   ]
  },
  {
   "cell_type": "code",
   "execution_count": null,
   "id": "295e1579",
   "metadata": {},
   "outputs": [],
   "source": [
    "from sklearn.linear_model import LinearRegression"
   ]
  },
  {
   "cell_type": "code",
   "execution_count": null,
   "id": "eea6b31a",
   "metadata": {},
   "outputs": [],
   "source": [
    "# Create a linear regression model\n",
    "lr = LinearRegression() \n",
    "# Fit the model using 'atemp' as the independent variable and 'cnt' as the dependent variable\n",
    "lr.fit(bike_df['atemp'].values.reshape(-1, 1), bike_df['cnt'].values.reshape(-1, 1))"
   ]
  },
  {
   "cell_type": "code",
   "execution_count": null,
   "id": "f7dfb578",
   "metadata": {},
   "outputs": [],
   "source": [
    "# Plot the scatter plot of 'atemp' vs 'cnt' and the regression line\n",
    "plt.scatter(bike_df['atemp'], bike_df['cnt']) \n",
    "# Regression line\n",
    "plt.plot(bike_df['atemp'], lr.predict(bike_df['atemp'].values.reshape(-1, 1)), c='red')"
   ]
  },
  {
   "cell_type": "code",
   "execution_count": null,
   "id": "a198d3bf",
   "metadata": {},
   "outputs": [],
   "source": [
    "# plot fitted line\n",
    "plt.scatter(bike_df['atemp'], bike_df['cnt'])\n",
    "plt.plot(bike_df['atemp'], lr.predict(bike_df['atemp'].values.reshape(-1, 1)), c='red') \n",
    "\n",
    "# plot the residuals\n",
    "for i in range(len(bike_df['atemp'])):\n",
    "    plt.plot(\n",
    "        [bike_df['atemp'].iloc[i], bike_df['atemp'].iloc[i]],\n",
    "        [bike_df['cnt'].iloc[i], lr.predict([[bike_df['atemp'].iloc[i]]])[0][0]], \n",
    "        c='black', linestyle='--'\n",
    "    )\n",
    "plt.xlabel('atemp')\n",
    "plt.ylabel('cnt')\n",
    "plt.title('Residuals of the Linear Regression Model')"
   ]
  },
  {
   "cell_type": "code",
   "execution_count": null,
   "id": "bd893a1d",
   "metadata": {},
   "outputs": [],
   "source": [
    "training_set = bike_df[bike_df['date'] < '2012-06-01']\n",
    "validation_set = bike_df[bike_df['date'] >= '2012-06-01']\n",
    "\n",
    "training_inputs = training_set[['atemp', 'workingday', 'hum', 'weathersit']].values\n",
    "training_outputs = training_set[['cnt']].values\n",
    "\n",
    "validation_inputs = validation_set[['atemp', 'workingday', 'hum', 'weathersit']].values\n",
    "validation_outputs = validation_set[['cnt']].values\n",
    "\n",
    "lr = LinearRegression()\n",
    "lr.fit(training_inputs, training_outputs)\n",
    "\n",
    "plt.scatter(training_set['date'], training_set['cnt'])\n",
    "plt.scatter(training_set['date'], lr.predict(training_inputs))\n",
    "plt.show()\n",
    "\n",
    "# plt.scatter(lr.predict(validation_inputs), validation_outputs)\n",
    "plt.scatter(validation_set['date'], validation_set['cnt'])\n",
    "plt.scatter(validation_set['date'], lr.predict(validation_inputs))\n",
    "plt.show()\n",
    "\n",
    "rmse = np.sqrt(((lr.predict(validation_inputs) - validation_outputs)**2).mean())\n",
    "rmse"
   ]
  },
  {
   "cell_type": "code",
   "execution_count": null,
   "id": "b118574b",
   "metadata": {},
   "outputs": [],
   "source": [
    "training_set = bike_df[bike_df['date'] < '2012-06-01']\n",
    "validation_set = bike_df[bike_df['date'] >= '2012-06-01']\n",
    "\n",
    "training_inputs = training_set[['atemp', 'workingday', 'hum', 'weathersit', 'windspeed']].values\n",
    "training_outputs = training_set[['cnt']].values\n",
    "\n",
    "validation_inputs = validation_set[['atemp', 'workingday', 'hum', 'weathersit', 'windspeed']].values\n",
    "validation_outputs = validation_set[['cnt']].values\n",
    "\n",
    "lr = LinearRegression()\n",
    "lr.fit(training_inputs, training_outputs)\n",
    "\n",
    "\n",
    "# plt.scatter(lr.predict(validation_inputs), validation_outputs)\n",
    "plt.scatter(validation_set['date'], validation_set['cnt'])\n",
    "plt.scatter(validation_set['date'], lr.predict(validation_inputs))\n",
    "plt.show()\n",
    "\n",
    "plt.scatter(training_set['date'], training_set['cnt'])\n",
    "plt.scatter(training_set['date'], lr.predict(training_inputs))\n",
    "plt.show()\n",
    "\n",
    "rmse = np.sqrt(((lr.predict(validation_inputs) - validation_outputs)**2).mean())\n",
    "rmse"
   ]
  },
  {
   "cell_type": "markdown",
   "id": "831e0aab",
   "metadata": {},
   "source": [
    "### BACK TO PHASE 2 : FEATURE ENGINEERING"
   ]
  },
  {
   "cell_type": "markdown",
   "id": "22a0a83e",
   "metadata": {},
   "source": [
    "This calculates the average of the past 7 days by taking the difference between today’s cumulative sum and the cumulative sum 7 days ago, and dividing by 7"
   ]
  },
  {
   "cell_type": "code",
   "execution_count": null,
   "id": "83875ccb",
   "metadata": {},
   "outputs": [],
   "source": [
    "bike_df['last_week'] = (bike_df['cnt'].cumsum()- bike_df['cnt'].cumsum().shift(7))/7\n",
    "bike_df = bike_df.dropna()\n",
    "bike_df"
   ]
  },
  {
   "cell_type": "code",
   "execution_count": null,
   "id": "ff3bc8a3",
   "metadata": {},
   "outputs": [],
   "source": [
    "training_set = bike_df[bike_df['date'] < '2012-06-01']\n",
    "validation_set = bike_df[bike_df['date'] >= '2012-06-01']\n",
    "\n",
    "training_inputs = training_set[['atemp', 'workingday', 'hum', 'weathersit', 'last_week', 'windspeed']].values\n",
    "training_outputs = training_set[['cnt']].values\n",
    "\n",
    "validation_inputs = validation_set[['atemp', 'workingday', 'hum', 'weathersit', 'last_week', 'windspeed']].values\n",
    "validation_outputs = validation_set[['cnt']].values\n",
    "\n",
    "lr = LinearRegression()\n",
    "lr.fit(training_inputs, training_outputs)\n",
    "\n",
    "plt.scatter(training_set['date'], training_set['cnt'])\n",
    "plt.scatter(training_set['date'], lr.predict(training_inputs))\n",
    "plt.show()\n",
    "\n",
    "# plt.scatter(lr.predict(validation_inputs), validation_outputs)\n",
    "plt.scatter(validation_set['date'], validation_set['cnt'])\n",
    "plt.scatter(validation_set['date'], lr.predict(validation_inputs))\n",
    "plt.show()\n",
    "\n",
    "rmse = np.sqrt(((lr.predict(validation_inputs) - validation_outputs)**2).mean())\n",
    "rmse"
   ]
  },
  {
   "cell_type": "code",
   "execution_count": null,
   "id": "f1488385",
   "metadata": {},
   "outputs": [],
   "source": [
    "# Safely assign 30-day rolling average\n",
    "bike_df.loc[:, 'last_month'] = bike_df['cnt'].rolling(window=30).mean()\n",
    "\n",
    "# Drop rows with NaN (first 29 rows)\n",
    "bike_df = bike_df.dropna()\n",
    "bike_df\n"
   ]
  },
  {
   "cell_type": "code",
   "execution_count": null,
   "id": "dfc271b8",
   "metadata": {},
   "outputs": [],
   "source": [
    "training_set = bike_df[bike_df['date'] < '2012-06-01']\n",
    "validation_set = bike_df[bike_df['date'] >= '2012-06-01']\n",
    "\n",
    "training_inputs = training_set[['atemp', 'workingday', 'hum', 'weathersit', 'last_week', 'last_month', 'windspeed']].values\n",
    "training_outputs = training_set[['cnt']].values\n",
    "\n",
    "validation_inputs = validation_set[['atemp', 'workingday', 'hum', 'weathersit', 'last_week', 'last_month', 'windspeed']].values\n",
    "validation_outputs = validation_set[['cnt']].values\n",
    "\n",
    "lr = LinearRegression()\n",
    "lr.fit(training_inputs, training_outputs)\n",
    "\n",
    "plt.scatter(training_set['date'], training_set['cnt'])\n",
    "plt.scatter(training_set['date'], lr.predict(training_inputs))\n",
    "plt.show()\n",
    "\n",
    "# plt.scatter(lr.predict(validation_inputs), validation_outputs)\n",
    "plt.scatter(validation_set['date'], validation_set['cnt'])\n",
    "plt.scatter(validation_set['date'], lr.predict(validation_inputs))\n",
    "plt.show()\n",
    "\n",
    "rmse = np.sqrt(((lr.predict(validation_inputs) - validation_outputs)**2).mean())\n",
    "rmse"
   ]
  },
  {
   "cell_type": "code",
   "execution_count": null,
   "id": "150f428b",
   "metadata": {},
   "outputs": [],
   "source": []
  }
 ],
 "metadata": {
  "kernelspec": {
   "display_name": "Python 3",
   "language": "python",
   "name": "python3"
  },
  "language_info": {
   "codemirror_mode": {
    "name": "ipython",
    "version": 3
   },
   "file_extension": ".py",
   "mimetype": "text/x-python",
   "name": "python",
   "nbconvert_exporter": "python",
   "pygments_lexer": "ipython3",
   "version": "3.13.5"
  }
 },
 "nbformat": 4,
 "nbformat_minor": 5
}
